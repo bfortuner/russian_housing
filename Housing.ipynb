{
 "cells": [
  {
   "cell_type": "markdown",
   "metadata": {},
   "source": [
    "#### Config"
   ]
  },
  {
   "cell_type": "code",
   "execution_count": 211,
   "metadata": {
    "collapsed": true
   },
   "outputs": [],
   "source": [
    "import pandas as pd\n",
    "import numpy as np\n",
    "import os"
   ]
  },
  {
   "cell_type": "code",
   "execution_count": 212,
   "metadata": {
    "collapsed": false
   },
   "outputs": [],
   "source": [
    "DATA_DIR = '/home/bfortuner/workplace/russian_housing/data'\n",
    "TRAIN_CSV = os.path.join(DATA_DIR, 'train.csv')\n",
    "TEST_CSV = os.path.join(DATA_DIR, 'test.csv')\n",
    "MACRO_CSV = os.path.join(DATA_DIR, 'macro.csv')\n",
    "\n",
    "TRAIN_DF = pd.read_csv(TRAIN_CSV, header=0)\n",
    "TEST_DF = pd.read_csv(TEST_CSV, header=0)\n",
    "MACRO_DF = pd.read_csv(MACRO_CSV, header=0)"
   ]
  },
  {
   "cell_type": "markdown",
   "metadata": {},
   "source": [
    "#### Timestamps"
   ]
  },
  {
   "cell_type": "code",
   "execution_count": 213,
   "metadata": {
    "collapsed": false
   },
   "outputs": [
    {
     "name": "stdout",
     "output_type": "stream",
     "text": [
      "timestamp    2011-08-20\n",
      "dtype: object\n",
      "timestamp    2015-06-30\n",
      "dtype: object\n",
      "timestamp    2015-07-01\n",
      "dtype: object\n",
      "timestamp    2016-05-30\n",
      "dtype: object\n"
     ]
    }
   ],
   "source": [
    "print(TRAIN_DF[['timestamp']].min())\n",
    "print(TRAIN_DF[['timestamp']].max()) \n",
    "print(TEST_DF[['timestamp']].min())\n",
    "print(TEST_DF[['timestamp']].max())"
   ]
  },
  {
   "cell_type": "markdown",
   "metadata": {},
   "source": [
    "#### Look at columns"
   ]
  },
  {
   "cell_type": "markdown",
   "metadata": {},
   "source": [
    "#### Get Features"
   ]
  },
  {
   "cell_type": "code",
   "execution_count": 231,
   "metadata": {
    "collapsed": false
   },
   "outputs": [
    {
     "name": "stderr",
     "output_type": "stream",
     "text": [
      "/home/bfortuner/anaconda3/lib/python3.6/site-packages/ipykernel/__main__.py:4: SettingWithCopyWarning: \n",
      "A value is trying to be set on a copy of a slice from a DataFrame.\n",
      "Try using .loc[row_indexer,col_indexer] = value instead\n",
      "\n",
      "See the caveats in the documentation: http://pandas.pydata.org/pandas-docs/stable/indexing.html#indexing-view-versus-copy\n"
     ]
    }
   ],
   "source": [
    "features = TRAIN_DF[['timestamp', 'full_sq']]\n",
    "features.sort_values(by='timestamp').head(3)\n",
    "labels = TRAIN_DF[['price_doc']]\n",
    "features['timestamp'] = features['timestamp'].astype('datetime64[ns]').view('int64')\n",
    "#features['timestamp'] = pd.to_numeric(features['timestamp'], errors='raise')"
   ]
  },
  {
   "cell_type": "code",
   "execution_count": 232,
   "metadata": {
    "collapsed": false
   },
   "outputs": [],
   "source": [
    "def norm_arr(arr, mean, std):\n",
    "    return (arr - mean) / std\n",
    "\n",
    "def denorm_arr(arr, mean, std):\n",
    "    return (arr * std) + mean\n",
    "\n",
    "FEATURES_MEAN = features.mean()\n",
    "FEATURES_STD = features.std()\n",
    "LABELS_MEAN = labels.mean()\n",
    "LABELS_STD =  labels.std()\n",
    "\n",
    "features = norm_arr(features, FEATURES_MEAN, FEATURES_STD)\n",
    "labels = norm_arr(labels, LABELS_MEAN, LABELS_STD)"
   ]
  },
  {
   "cell_type": "code",
   "execution_count": 233,
   "metadata": {
    "collapsed": false
   },
   "outputs": [
    {
     "name": "stdout",
     "output_type": "stream",
     "text": [
      "(21330, 2)\n",
      "(9141, 2)\n",
      "(21330, 1)\n",
      "(9141, 1)\n"
     ]
    }
   ],
   "source": [
    "from sklearn.model_selection import train_test_split\n",
    "VALIDATION_SIZE = int(len(features)*.3)\n",
    "train_dset = features[:-VALIDATION_SIZE]\n",
    "train_labels = labels[:-VALIDATION_SIZE]\n",
    "val_dset = features[-VALIDATION_SIZE:]\n",
    "val_labels = labels[-VALIDATION_SIZE:]\n",
    "print(train_dset.shape)\n",
    "print(val_dset.shape)\n",
    "print(train_labels.shape)\n",
    "print(val_labels.shape)\n",
    "assert len(train_dset)+len(val_dset) == len(features)"
   ]
  },
  {
   "cell_type": "code",
   "execution_count": 234,
   "metadata": {
    "collapsed": false
   },
   "outputs": [
    {
     "data": {
      "text/plain": [
       "LinearRegression(copy_X=True, fit_intercept=True, n_jobs=1, normalize=False)"
      ]
     },
     "execution_count": 234,
     "metadata": {},
     "output_type": "execute_result"
    }
   ],
   "source": [
    "from sklearn.linear_model import LinearRegression\n",
    "\n",
    "linreg = LinearRegression()\n",
    "\n",
    "# fit the model to the training data (learn the coefficients)\n",
    "linreg.fit(train_dset, train_labels)"
   ]
  },
  {
   "cell_type": "code",
   "execution_count": 235,
   "metadata": {
    "collapsed": false
   },
   "outputs": [
    {
     "name": "stdout",
     "output_type": "stream",
     "text": [
      "[-0.01582131]\n",
      "[[ 0.09314353  0.24868134]]\n"
     ]
    }
   ],
   "source": [
    "# Intercept and Coefficients\n",
    "print (linreg.intercept_)\n",
    "print (linreg.coef_)\n",
    "\n",
    "# pair the feature names with the coefficients\n",
    "feature_names = ['timestamp', 'full_sq']\n"
   ]
  },
  {
   "cell_type": "code",
   "execution_count": 236,
   "metadata": {
    "collapsed": false
   },
   "outputs": [
    {
     "data": {
      "text/plain": [
       "array([[ 0.15674766],\n",
       "       [ 0.17636414],\n",
       "       [ 0.17010164]])"
      ]
     },
     "execution_count": 236,
     "metadata": {},
     "output_type": "execute_result"
    }
   ],
   "source": [
    "price_predictions = linreg.predict(val_dset)\n",
    "price_predictions[0:3]   #numpy array"
   ]
  },
  {
   "cell_type": "code",
   "execution_count": 237,
   "metadata": {
    "collapsed": false
   },
   "outputs": [
    {
     "name": "stdout",
     "output_type": "stream",
     "text": [
      "0.598734833686\n",
      "1.0388522366\n",
      "1.01924101007\n",
      "price_doc    0.751829\n",
      "dtype: float64\n"
     ]
    },
    {
     "name": "stderr",
     "output_type": "stream",
     "text": [
      "/home/bfortuner/anaconda3/lib/python3.6/site-packages/ipykernel/__main__.py:9: RuntimeWarning: invalid value encountered in log\n"
     ]
    }
   ],
   "source": [
    "from sklearn import metrics\n",
    "\n",
    "# calculate MAE by hand\n",
    "# (10 + 0 + 20 + 10) / 4.\n",
    "\n",
    "print(metrics.mean_absolute_error(val_labels, price_predictions))\n",
    "print(metrics.mean_squared_error(val_labels, price_predictions))\n",
    "print(np.sqrt(metrics.mean_squared_error(val_labels, price_predictions)))\n",
    "print(np.sqrt( np.mean(( np.log(price_predictions+1) - np.log(val_labels+1) )**2) ))"
   ]
  },
  {
   "cell_type": "markdown",
   "metadata": {},
   "source": [
    "#### Make Submission"
   ]
  },
  {
   "cell_type": "code",
   "execution_count": 238,
   "metadata": {
    "collapsed": false
   },
   "outputs": [
    {
     "name": "stderr",
     "output_type": "stream",
     "text": [
      "/home/bfortuner/anaconda3/lib/python3.6/site-packages/ipykernel/__main__.py:3: SettingWithCopyWarning: \n",
      "A value is trying to be set on a copy of a slice from a DataFrame.\n",
      "Try using .loc[row_indexer,col_indexer] = value instead\n",
      "\n",
      "See the caveats in the documentation: http://pandas.pydata.org/pandas-docs/stable/indexing.html#indexing-view-versus-copy\n",
      "  app.launch_new_instance()\n"
     ]
    }
   ],
   "source": [
    "test_features = TEST_DF[['timestamp', 'full_sq']]\n",
    "test_ids = TEST_DF[['id']].astype(int)\n",
    "test_features['timestamp'] = test_features['timestamp'].astype('datetime64[ns]').view('int64')\n",
    "test_features = norm_arr(test_features, FEATURES_MEAN, FEATURES_STD)"
   ]
  },
  {
   "cell_type": "code",
   "execution_count": 239,
   "metadata": {
    "collapsed": true
   },
   "outputs": [],
   "source": [
    "test_predictions = linreg.predict(test_features)"
   ]
  },
  {
   "cell_type": "code",
   "execution_count": 240,
   "metadata": {
    "collapsed": false
   },
   "outputs": [],
   "source": [
    "test_predictions = denorm_arr(test_predictions, np.expand_dims(LABELS_MEAN,1), np.expand_dims(LABELS_STD,1))"
   ]
  },
  {
   "cell_type": "code",
   "execution_count": 241,
   "metadata": {
    "collapsed": false
   },
   "outputs": [],
   "source": [
    "submission_arr = np.concatenate((test_ids.astype('int'), test_predictions), axis=1)"
   ]
  },
  {
   "cell_type": "code",
   "execution_count": 242,
   "metadata": {
    "collapsed": true
   },
   "outputs": [],
   "source": [
    "submission_df = pd.DataFrame(submission_arr,columns=['id','price_doc'])"
   ]
  },
  {
   "cell_type": "code",
   "execution_count": 228,
   "metadata": {
    "collapsed": false
   },
   "outputs": [],
   "source": [
    "submission_df['id'] = submission_df['id'].astype('int')"
   ]
  },
  {
   "cell_type": "code",
   "execution_count": 229,
   "metadata": {
    "collapsed": true
   },
   "outputs": [],
   "source": [
    "submission_df.to_csv('submission.csv',index=False)"
   ]
  },
  {
   "cell_type": "code",
   "execution_count": null,
   "metadata": {
    "collapsed": true
   },
   "outputs": [],
   "source": []
  }
 ],
 "metadata": {
  "kernelspec": {
   "display_name": "Python 3",
   "language": "python",
   "name": "python3"
  },
  "language_info": {
   "codemirror_mode": {
    "name": "ipython",
    "version": 3
   },
   "file_extension": ".py",
   "mimetype": "text/x-python",
   "name": "python",
   "nbconvert_exporter": "python",
   "pygments_lexer": "ipython3",
   "version": "3.6.0"
  },
  "latex_envs": {
   "LaTeX_envs_menu_present": true,
   "autocomplete": true,
   "bibliofile": "biblio.bib",
   "cite_by": "apalike",
   "current_citInitial": 1,
   "eqLabelWithNumbers": true,
   "eqNumInitial": 1,
   "hotkeys": {
    "equation": "Ctrl-E",
    "itemize": "Ctrl-I"
   },
   "labels_anchors": false,
   "latex_user_defs": false,
   "report_style_numbering": false,
   "user_envs_cfg": false
  },
  "toc": {
   "colors": {
    "hover_highlight": "#DAA520",
    "running_highlight": "#FF0000",
    "selected_highlight": "#FFD700"
   },
   "moveMenuLeft": true,
   "nav_menu": {
    "height": "92px",
    "width": "254px"
   },
   "navigate_menu": true,
   "number_sections": true,
   "sideBar": true,
   "threshold": 4,
   "toc_cell": false,
   "toc_section_display": "block",
   "toc_window_display": false,
   "widenNotebook": false
  }
 },
 "nbformat": 4,
 "nbformat_minor": 2
}
